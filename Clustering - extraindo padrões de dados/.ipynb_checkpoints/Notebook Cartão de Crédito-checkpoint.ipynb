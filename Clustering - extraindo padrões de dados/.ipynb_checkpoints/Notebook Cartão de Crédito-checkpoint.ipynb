{
 "cells": [
  {
   "cell_type": "code",
   "execution_count": 1,
   "id": "91a0539e-dfea-47c4-a8df-d7db7f79ff3c",
   "metadata": {},
   "outputs": [
    {
     "data": {
      "text/html": [
       "<div>\n",
       "<style scoped>\n",
       "    .dataframe tbody tr th:only-of-type {\n",
       "        vertical-align: middle;\n",
       "    }\n",
       "\n",
       "    .dataframe tbody tr th {\n",
       "        vertical-align: top;\n",
       "    }\n",
       "\n",
       "    .dataframe thead th {\n",
       "        text-align: right;\n",
       "    }\n",
       "</style>\n",
       "<table border=\"1\" class=\"dataframe\">\n",
       "  <thead>\n",
       "    <tr style=\"text-align: right;\">\n",
       "      <th></th>\n",
       "      <th>BALANCE</th>\n",
       "      <th>BALANCE_FREQUENCY</th>\n",
       "      <th>PURCHASES</th>\n",
       "      <th>ONEOFF_PURCHASES</th>\n",
       "      <th>INSTALLMENTS_PURCHASES</th>\n",
       "      <th>CASH_ADVANCE</th>\n",
       "      <th>PURCHASES_FREQUENCY</th>\n",
       "      <th>ONEOFF_PURCHASES_FREQUENCY</th>\n",
       "      <th>PURCHASES_INSTALLMENTS_FREQUENCY</th>\n",
       "      <th>CASH_ADVANCE_FREQUENCY</th>\n",
       "      <th>CASH_ADVANCE_TRX</th>\n",
       "      <th>PURCHASES_TRX</th>\n",
       "      <th>CREDIT_LIMIT</th>\n",
       "      <th>PAYMENTS</th>\n",
       "      <th>MINIMUM_PAYMENTS</th>\n",
       "      <th>PRC_FULL_PAYMENT</th>\n",
       "    </tr>\n",
       "  </thead>\n",
       "  <tbody>\n",
       "    <tr>\n",
       "      <th>0</th>\n",
       "      <td>40.900749</td>\n",
       "      <td>0.818182</td>\n",
       "      <td>95.40</td>\n",
       "      <td>0.00</td>\n",
       "      <td>95.4</td>\n",
       "      <td>0.000000</td>\n",
       "      <td>0.166667</td>\n",
       "      <td>0.000000</td>\n",
       "      <td>0.083333</td>\n",
       "      <td>0.000000</td>\n",
       "      <td>0</td>\n",
       "      <td>2</td>\n",
       "      <td>1000.0</td>\n",
       "      <td>201.802084</td>\n",
       "      <td>139.509787</td>\n",
       "      <td>0.000000</td>\n",
       "    </tr>\n",
       "    <tr>\n",
       "      <th>1</th>\n",
       "      <td>3202.467416</td>\n",
       "      <td>0.909091</td>\n",
       "      <td>0.00</td>\n",
       "      <td>0.00</td>\n",
       "      <td>0.0</td>\n",
       "      <td>6442.945483</td>\n",
       "      <td>0.000000</td>\n",
       "      <td>0.000000</td>\n",
       "      <td>0.000000</td>\n",
       "      <td>0.250000</td>\n",
       "      <td>4</td>\n",
       "      <td>0</td>\n",
       "      <td>7000.0</td>\n",
       "      <td>4103.032597</td>\n",
       "      <td>1072.340217</td>\n",
       "      <td>0.222222</td>\n",
       "    </tr>\n",
       "    <tr>\n",
       "      <th>2</th>\n",
       "      <td>2495.148862</td>\n",
       "      <td>1.000000</td>\n",
       "      <td>773.17</td>\n",
       "      <td>773.17</td>\n",
       "      <td>0.0</td>\n",
       "      <td>0.000000</td>\n",
       "      <td>1.000000</td>\n",
       "      <td>1.000000</td>\n",
       "      <td>0.000000</td>\n",
       "      <td>0.000000</td>\n",
       "      <td>0</td>\n",
       "      <td>12</td>\n",
       "      <td>7500.0</td>\n",
       "      <td>622.066742</td>\n",
       "      <td>627.284787</td>\n",
       "      <td>0.000000</td>\n",
       "    </tr>\n",
       "    <tr>\n",
       "      <th>3</th>\n",
       "      <td>1666.670542</td>\n",
       "      <td>0.636364</td>\n",
       "      <td>1499.00</td>\n",
       "      <td>1499.00</td>\n",
       "      <td>0.0</td>\n",
       "      <td>205.788017</td>\n",
       "      <td>0.083333</td>\n",
       "      <td>0.083333</td>\n",
       "      <td>0.000000</td>\n",
       "      <td>0.083333</td>\n",
       "      <td>1</td>\n",
       "      <td>1</td>\n",
       "      <td>7500.0</td>\n",
       "      <td>0.000000</td>\n",
       "      <td>NaN</td>\n",
       "      <td>0.000000</td>\n",
       "    </tr>\n",
       "    <tr>\n",
       "      <th>4</th>\n",
       "      <td>817.714335</td>\n",
       "      <td>1.000000</td>\n",
       "      <td>16.00</td>\n",
       "      <td>16.00</td>\n",
       "      <td>0.0</td>\n",
       "      <td>0.000000</td>\n",
       "      <td>0.083333</td>\n",
       "      <td>0.083333</td>\n",
       "      <td>0.000000</td>\n",
       "      <td>0.000000</td>\n",
       "      <td>0</td>\n",
       "      <td>1</td>\n",
       "      <td>1200.0</td>\n",
       "      <td>678.334763</td>\n",
       "      <td>244.791237</td>\n",
       "      <td>0.000000</td>\n",
       "    </tr>\n",
       "  </tbody>\n",
       "</table>\n",
       "</div>"
      ],
      "text/plain": [
       "       BALANCE  BALANCE_FREQUENCY  PURCHASES  ONEOFF_PURCHASES  \\\n",
       "0    40.900749           0.818182      95.40              0.00   \n",
       "1  3202.467416           0.909091       0.00              0.00   \n",
       "2  2495.148862           1.000000     773.17            773.17   \n",
       "3  1666.670542           0.636364    1499.00           1499.00   \n",
       "4   817.714335           1.000000      16.00             16.00   \n",
       "\n",
       "   INSTALLMENTS_PURCHASES  CASH_ADVANCE  PURCHASES_FREQUENCY  \\\n",
       "0                    95.4      0.000000             0.166667   \n",
       "1                     0.0   6442.945483             0.000000   \n",
       "2                     0.0      0.000000             1.000000   \n",
       "3                     0.0    205.788017             0.083333   \n",
       "4                     0.0      0.000000             0.083333   \n",
       "\n",
       "   ONEOFF_PURCHASES_FREQUENCY  PURCHASES_INSTALLMENTS_FREQUENCY  \\\n",
       "0                    0.000000                          0.083333   \n",
       "1                    0.000000                          0.000000   \n",
       "2                    1.000000                          0.000000   \n",
       "3                    0.083333                          0.000000   \n",
       "4                    0.083333                          0.000000   \n",
       "\n",
       "   CASH_ADVANCE_FREQUENCY  CASH_ADVANCE_TRX  PURCHASES_TRX  CREDIT_LIMIT  \\\n",
       "0                0.000000                 0              2        1000.0   \n",
       "1                0.250000                 4              0        7000.0   \n",
       "2                0.000000                 0             12        7500.0   \n",
       "3                0.083333                 1              1        7500.0   \n",
       "4                0.000000                 0              1        1200.0   \n",
       "\n",
       "      PAYMENTS  MINIMUM_PAYMENTS  PRC_FULL_PAYMENT  \n",
       "0   201.802084        139.509787          0.000000  \n",
       "1  4103.032597       1072.340217          0.222222  \n",
       "2   622.066742        627.284787          0.000000  \n",
       "3     0.000000               NaN          0.000000  \n",
       "4   678.334763        244.791237          0.000000  "
      ]
     },
     "execution_count": 1,
     "metadata": {},
     "output_type": "execute_result"
    }
   ],
   "source": [
    "import pandas as pd\n",
    "\n",
    "dataframe = pd.read_csv('data/CC GENERAL.csv')\n",
    "dataframe.drop(columns=['CUST_ID', 'TENURE'], inplace=True)\n",
    "dataframe.head()"
   ]
  },
  {
   "cell_type": "code",
   "execution_count": 2,
   "id": "5dd187fa-41bf-4875-afa3-3d87a2a46b11",
   "metadata": {},
   "outputs": [
    {
     "data": {
      "text/plain": [
       "BALANCE                               0\n",
       "BALANCE_FREQUENCY                     0\n",
       "PURCHASES                             0\n",
       "ONEOFF_PURCHASES                      0\n",
       "INSTALLMENTS_PURCHASES                0\n",
       "CASH_ADVANCE                          0\n",
       "PURCHASES_FREQUENCY                   0\n",
       "ONEOFF_PURCHASES_FREQUENCY            0\n",
       "PURCHASES_INSTALLMENTS_FREQUENCY      0\n",
       "CASH_ADVANCE_FREQUENCY                0\n",
       "CASH_ADVANCE_TRX                      0\n",
       "PURCHASES_TRX                         0\n",
       "CREDIT_LIMIT                          1\n",
       "PAYMENTS                              0\n",
       "MINIMUM_PAYMENTS                    313\n",
       "PRC_FULL_PAYMENT                      0\n",
       "dtype: int64"
      ]
     },
     "execution_count": 2,
     "metadata": {},
     "output_type": "execute_result"
    }
   ],
   "source": [
    "missing = dataframe.isna().sum()\n",
    "missing"
   ]
  },
  {
   "cell_type": "code",
   "execution_count": 3,
   "id": "14ca0e1b-b4ba-414a-9881-fd83832c7e6a",
   "metadata": {},
   "outputs": [
    {
     "data": {
      "text/plain": [
       "BALANCE                             0\n",
       "BALANCE_FREQUENCY                   0\n",
       "PURCHASES                           0\n",
       "ONEOFF_PURCHASES                    0\n",
       "INSTALLMENTS_PURCHASES              0\n",
       "CASH_ADVANCE                        0\n",
       "PURCHASES_FREQUENCY                 0\n",
       "ONEOFF_PURCHASES_FREQUENCY          0\n",
       "PURCHASES_INSTALLMENTS_FREQUENCY    0\n",
       "CASH_ADVANCE_FREQUENCY              0\n",
       "CASH_ADVANCE_TRX                    0\n",
       "PURCHASES_TRX                       0\n",
       "CREDIT_LIMIT                        0\n",
       "PAYMENTS                            0\n",
       "MINIMUM_PAYMENTS                    0\n",
       "PRC_FULL_PAYMENT                    0\n",
       "dtype: int64"
      ]
     },
     "execution_count": 3,
     "metadata": {},
     "output_type": "execute_result"
    }
   ],
   "source": [
    "dataframe.fillna(dataframe.median(), inplace=True)\n",
    "missing = dataframe.isna().sum()\n",
    "missing"
   ]
  },
  {
   "cell_type": "code",
   "execution_count": 4,
   "id": "ceb83ec9-33e2-4382-ac7c-dd6a60d93e78",
   "metadata": {},
   "outputs": [
    {
     "data": {
      "text/plain": [
       "array([[3.93555441e-02, 7.87271593e-04, 9.17958473e-02, ...,\n",
       "        1.94178127e-01, 1.34239194e-01, 0.00000000e+00],\n",
       "       [2.93875903e-01, 8.34231560e-05, 0.00000000e+00, ...,\n",
       "        3.76516684e-01, 9.84037959e-02, 2.03923046e-05],\n",
       "       [3.10798149e-01, 1.24560965e-04, 9.63068011e-02, ...,\n",
       "        7.74852335e-02, 7.81351982e-02, 0.00000000e+00],\n",
       "       ...,\n",
       "       [2.27733092e-02, 8.11060955e-04, 1.40540698e-01, ...,\n",
       "        7.90986945e-02, 8.02156174e-02, 2.43318384e-04],\n",
       "       [2.65257948e-02, 1.64255731e-03, 0.00000000e+00, ...,\n",
       "        1.03579625e-01, 1.09898221e-01, 4.92767391e-04],\n",
       "       [1.86406219e-01, 3.33426837e-04, 5.46778061e-01, ...,\n",
       "        3.15915455e-02, 4.41568390e-02, 0.00000000e+00]])"
      ]
     },
     "execution_count": 4,
     "metadata": {},
     "output_type": "execute_result"
    }
   ],
   "source": [
    "from sklearn.preprocessing import Normalizer\n",
    "\n",
    "values = Normalizer().fit_transform(dataframe.values)\n",
    "values"
   ]
  },
  {
   "cell_type": "code",
   "execution_count": 5,
   "id": "6013fe06-68eb-4ae4-aaad-dd980aec79ad",
   "metadata": {},
   "outputs": [],
   "source": [
    "from sklearn.cluster import KMeans\n",
    "\n",
    "kmeans = KMeans(n_clusters=5, n_init=10, max_iter=300)\n",
    "y_pred = kmeans.fit_predict(values)"
   ]
  },
  {
   "cell_type": "code",
   "execution_count": 6,
   "id": "b1419c51-d3bb-4715-8101-d23eff4773b4",
   "metadata": {},
   "outputs": [
    {
     "data": {
      "text/plain": [
       "0.36454479258047573"
      ]
     },
     "execution_count": 6,
     "metadata": {},
     "output_type": "execute_result"
    }
   ],
   "source": [
    "from sklearn import metrics\n",
    "\n",
    "labels = kmeans.labels_\n",
    "silhouette = metrics.silhouette_score(values, labels, metric='euclidean')\n",
    "silhouette"
   ]
  },
  {
   "cell_type": "code",
   "execution_count": 7,
   "id": "4c807cae-cae2-472a-bf01-1b68b598ce49",
   "metadata": {},
   "outputs": [
    {
     "data": {
      "text/plain": [
       "1.0760464906093192"
      ]
     },
     "execution_count": 7,
     "metadata": {},
     "output_type": "execute_result"
    }
   ],
   "source": [
    "dbs = metrics.davies_bouldin_score(values, labels)\n",
    "dbs"
   ]
  },
  {
   "cell_type": "code",
   "execution_count": 8,
   "id": "737d2b2d-45d0-4a14-b739-2efe90ba7b07",
   "metadata": {},
   "outputs": [
    {
     "data": {
      "text/plain": [
       "3431.790347716921"
      ]
     },
     "execution_count": 8,
     "metadata": {},
     "output_type": "execute_result"
    }
   ],
   "source": [
    "calinsk = metrics.calinski_harabasz_score(values, labels)\n",
    "calinsk"
   ]
  },
  {
   "cell_type": "code",
   "execution_count": 9,
   "id": "6f9a5f29-3415-4511-95d7-46c72b98db2a",
   "metadata": {},
   "outputs": [],
   "source": [
    "def clastering_algorithm(n_clusters, dataset):\n",
    "    kmeans = KMeans(n_clusters=5, n_init=10, max_iter=300)\n",
    "    labels = kmeans.fit_predict(dataset)\n",
    "    \n",
    "    silhouette = metrics.silhouette_score(dataset, labels, metric='euclidean')\n",
    "    davies = metrics.davies_bouldin_score(dataset, labels)\n",
    "    calinski = metrics.calinski_harabasz_score(dataset, labels)\n",
    "    \n",
    "    return silhouette, davies, calinski"
   ]
  },
  {
   "cell_type": "code",
   "execution_count": 10,
   "id": "e97d23e2-4266-4b7a-891b-12ec3802e84b",
   "metadata": {},
   "outputs": [
    {
     "name": "stdout",
     "output_type": "stream",
     "text": [
      "2 => (0.36450776610378255, 1.075652489604059, 3431.797438360455)\n",
      "3 => (0.3645412082353538, 1.0759109484969387, 3431.7941358665316)\n",
      "4 => (0.3645187568974058, 1.0755010397269298, 3431.784884602735)\n",
      "5 => (0.34852928204523576, 1.1527134855876944, 3422.8382083377455)\n",
      "6 => (0.3646017628085195, 1.0753510081923618, 3431.783254564093)\n",
      "7 => (0.3645219978094767, 1.0759608810957066, 3431.8011174859957)\n",
      "8 => (0.3643891019677421, 1.075928412708598, 3431.776631279097)\n",
      "9 => (0.3644845919974304, 1.0757138590613295, 3431.79374284143)\n",
      "10 => (0.34852928204523576, 1.1527134855876946, 3422.8382083377455)\n"
     ]
    }
   ],
   "source": [
    "for k in range(2, 11):\n",
    "    print(k, '=>', clastering_algorithm(k, values))"
   ]
  },
  {
   "cell_type": "code",
   "execution_count": 11,
   "id": "74f31b3f-3627-47f4-ad37-1f6f69a45a31",
   "metadata": {},
   "outputs": [
    {
     "name": "stdout",
     "output_type": "stream",
     "text": [
      "(0.36443927743081506, 1.0758787031571042, 3431.782548172111)\n",
      "(0.039228371036895186, 3.5604827988645242, 301.9398915884457)\n"
     ]
    }
   ],
   "source": [
    "import numpy as np\n",
    "\n",
    "random_data = np.random.rand(*dataframe.shape)\n",
    "print(clastering_algorithm(5, values))\n",
    "print(clastering_algorithm(5, random_data))"
   ]
  },
  {
   "cell_type": "code",
   "execution_count": 12,
   "id": "ef03a6c6-9d31-469d-8132-19069991f839",
   "metadata": {},
   "outputs": [
    {
     "name": "stdout",
     "output_type": "stream",
     "text": [
      "(0.3692455604046628, 1.0550439720459237, 1203.9722444846889)\n",
      "(0.35416642754504835, 1.1382306445993162, 1194.9519865048878)\n",
      "(0.3668564117315988, 1.0993525253456347, 1167.5313082261503)\n"
     ]
    }
   ],
   "source": [
    "set_1, set_2, set_3 = np.array_split(values, 3)\n",
    "\n",
    "print(clastering_algorithm(5, set_1))\n",
    "print(clastering_algorithm(5, set_2))\n",
    "print(clastering_algorithm(5, set_3))"
   ]
  },
  {
   "cell_type": "code",
   "execution_count": 13,
   "id": "ca70ac57-c934-4be7-9ebd-87d70500f9c9",
   "metadata": {},
   "outputs": [
    {
     "data": {
      "image/png": "[encoded data removed]",
      "text/plain": [
       "<Figure size 1008x576 with 1 Axes>"
      ]
     },
     "metadata": {
      "needs_background": "light"
     },
     "output_type": "display_data"
    }
   ],
   "source": [
    "import matplotlib.pyplot as plt\n",
    "\n",
    "plt.figure(figsize=(14, 8))\n",
    "plt.scatter(dataframe['PURCHASES'], dataframe['PAYMENTS'], c=labels, s=10, cmap='rainbow')\n",
    "plt.xlabel('Valor total pago')\n",
    "plt.ylabel('Valor total gasto')\n",
    "plt.show()"
   ]
  },
  {
   "cell_type": "code",
   "execution_count": 14,
   "id": "b9b46708-a28b-4f2f-bf35-8ae4e3d56df8",
   "metadata": {},
   "outputs": [
    {
     "data": {
      "text/html": [
       "<div>\n",
       "<style scoped>\n",
       "    .dataframe tbody tr th:only-of-type {\n",
       "        vertical-align: middle;\n",
       "    }\n",
       "\n",
       "    .dataframe tbody tr th {\n",
       "        vertical-align: top;\n",
       "    }\n",
       "\n",
       "    .dataframe thead tr th {\n",
       "        text-align: left;\n",
       "    }\n",
       "\n",
       "    .dataframe thead tr:last-of-type th {\n",
       "        text-align: right;\n",
       "    }\n",
       "</style>\n",
       "<table border=\"1\" class=\"dataframe\">\n",
       "  <thead>\n",
       "    <tr>\n",
       "      <th></th>\n",
       "      <th colspan=\"8\" halign=\"left\">BALANCE</th>\n",
       "      <th colspan=\"2\" halign=\"left\">BALANCE_FREQUENCY</th>\n",
       "      <th>...</th>\n",
       "      <th colspan=\"2\" halign=\"left\">MINIMUM_PAYMENTS</th>\n",
       "      <th colspan=\"8\" halign=\"left\">PRC_FULL_PAYMENT</th>\n",
       "    </tr>\n",
       "    <tr>\n",
       "      <th></th>\n",
       "      <th>count</th>\n",
       "      <th>mean</th>\n",
       "      <th>std</th>\n",
       "      <th>min</th>\n",
       "      <th>25%</th>\n",
       "      <th>50%</th>\n",
       "      <th>75%</th>\n",
       "      <th>max</th>\n",
       "      <th>count</th>\n",
       "      <th>mean</th>\n",
       "      <th>...</th>\n",
       "      <th>75%</th>\n",
       "      <th>max</th>\n",
       "      <th>count</th>\n",
       "      <th>mean</th>\n",
       "      <th>std</th>\n",
       "      <th>min</th>\n",
       "      <th>25%</th>\n",
       "      <th>50%</th>\n",
       "      <th>75%</th>\n",
       "      <th>max</th>\n",
       "    </tr>\n",
       "    <tr>\n",
       "      <th>cluster</th>\n",
       "      <th></th>\n",
       "      <th></th>\n",
       "      <th></th>\n",
       "      <th></th>\n",
       "      <th></th>\n",
       "      <th></th>\n",
       "      <th></th>\n",
       "      <th></th>\n",
       "      <th></th>\n",
       "      <th></th>\n",
       "      <th></th>\n",
       "      <th></th>\n",
       "      <th></th>\n",
       "      <th></th>\n",
       "      <th></th>\n",
       "      <th></th>\n",
       "      <th></th>\n",
       "      <th></th>\n",
       "      <th></th>\n",
       "      <th></th>\n",
       "      <th></th>\n",
       "    </tr>\n",
       "  </thead>\n",
       "  <tbody>\n",
       "    <tr>\n",
       "      <th>0</th>\n",
       "      <td>1536.0</td>\n",
       "      <td>1141.865757</td>\n",
       "      <td>1664.809840</td>\n",
       "      <td>0.000000</td>\n",
       "      <td>212.178230</td>\n",
       "      <td>554.332740</td>\n",
       "      <td>1370.056708</td>\n",
       "      <td>19043.138560</td>\n",
       "      <td>1536.0</td>\n",
       "      <td>0.928220</td>\n",
       "      <td>...</td>\n",
       "      <td>523.540210</td>\n",
       "      <td>18621.013310</td>\n",
       "      <td>1536.0</td>\n",
       "      <td>0.278331</td>\n",
       "      <td>0.367137</td>\n",
       "      <td>0.0</td>\n",
       "      <td>0.0</td>\n",
       "      <td>0.083333</td>\n",
       "      <td>0.545455</td>\n",
       "      <td>1.0</td>\n",
       "    </tr>\n",
       "    <tr>\n",
       "      <th>1</th>\n",
       "      <td>3279.0</td>\n",
       "      <td>443.776995</td>\n",
       "      <td>846.525522</td>\n",
       "      <td>0.000000</td>\n",
       "      <td>23.340435</td>\n",
       "      <td>82.902896</td>\n",
       "      <td>410.659944</td>\n",
       "      <td>9630.367575</td>\n",
       "      <td>3279.0</td>\n",
       "      <td>0.774514</td>\n",
       "      <td>...</td>\n",
       "      <td>248.766884</td>\n",
       "      <td>4483.503862</td>\n",
       "      <td>3279.0</td>\n",
       "      <td>0.246881</td>\n",
       "      <td>0.346775</td>\n",
       "      <td>0.0</td>\n",
       "      <td>0.0</td>\n",
       "      <td>0.000000</td>\n",
       "      <td>0.444444</td>\n",
       "      <td>1.0</td>\n",
       "    </tr>\n",
       "    <tr>\n",
       "      <th>2</th>\n",
       "      <td>412.0</td>\n",
       "      <td>1987.146873</td>\n",
       "      <td>1852.215743</td>\n",
       "      <td>70.794108</td>\n",
       "      <td>1020.146724</td>\n",
       "      <td>1338.918346</td>\n",
       "      <td>2133.415063</td>\n",
       "      <td>11670.179850</td>\n",
       "      <td>412.0</td>\n",
       "      <td>0.989512</td>\n",
       "      <td>...</td>\n",
       "      <td>7086.774783</td>\n",
       "      <td>76406.207520</td>\n",
       "      <td>412.0</td>\n",
       "      <td>0.019271</td>\n",
       "      <td>0.090795</td>\n",
       "      <td>0.0</td>\n",
       "      <td>0.0</td>\n",
       "      <td>0.000000</td>\n",
       "      <td>0.000000</td>\n",
       "      <td>1.0</td>\n",
       "    </tr>\n",
       "    <tr>\n",
       "      <th>3</th>\n",
       "      <td>1073.0</td>\n",
       "      <td>1795.328292</td>\n",
       "      <td>1982.485775</td>\n",
       "      <td>0.000000</td>\n",
       "      <td>507.076999</td>\n",
       "      <td>1088.056301</td>\n",
       "      <td>2315.003636</td>\n",
       "      <td>14581.459140</td>\n",
       "      <td>1073.0</td>\n",
       "      <td>0.862260</td>\n",
       "      <td>...</td>\n",
       "      <td>884.183626</td>\n",
       "      <td>21235.065300</td>\n",
       "      <td>1073.0</td>\n",
       "      <td>0.117430</td>\n",
       "      <td>0.186772</td>\n",
       "      <td>0.0</td>\n",
       "      <td>0.0</td>\n",
       "      <td>0.083333</td>\n",
       "      <td>0.142857</td>\n",
       "      <td>1.0</td>\n",
       "    </tr>\n",
       "    <tr>\n",
       "      <th>4</th>\n",
       "      <td>2650.0</td>\n",
       "      <td>3036.946177</td>\n",
       "      <td>2478.922442</td>\n",
       "      <td>6.824905</td>\n",
       "      <td>1255.154881</td>\n",
       "      <td>2173.994774</td>\n",
       "      <td>4223.858877</td>\n",
       "      <td>18495.558550</td>\n",
       "      <td>2650.0</td>\n",
       "      <td>0.963514</td>\n",
       "      <td>...</td>\n",
       "      <td>1330.541571</td>\n",
       "      <td>8345.641905</td>\n",
       "      <td>2650.0</td>\n",
       "      <td>0.001798</td>\n",
       "      <td>0.023256</td>\n",
       "      <td>0.0</td>\n",
       "      <td>0.0</td>\n",
       "      <td>0.000000</td>\n",
       "      <td>0.000000</td>\n",
       "      <td>0.6</td>\n",
       "    </tr>\n",
       "  </tbody>\n",
       "</table>\n",
       "<p>5 rows × 128 columns</p>\n",
       "</div>"
      ],
      "text/plain": [
       "        BALANCE                                                    \\\n",
       "          count         mean          std        min          25%   \n",
       "cluster                                                             \n",
       "0        1536.0  1141.865757  1664.809840   0.000000   212.178230   \n",
       "1        3279.0   443.776995   846.525522   0.000000    23.340435   \n",
       "2         412.0  1987.146873  1852.215743  70.794108  1020.146724   \n",
       "3        1073.0  1795.328292  1982.485775   0.000000   507.076999   \n",
       "4        2650.0  3036.946177  2478.922442   6.824905  1255.154881   \n",
       "\n",
       "                                                BALANCE_FREQUENCY            \\\n",
       "                 50%          75%           max             count      mean   \n",
       "cluster                                                                       \n",
       "0         554.332740  1370.056708  19043.138560            1536.0  0.928220   \n",
       "1          82.902896   410.659944   9630.367575            3279.0  0.774514   \n",
       "2        1338.918346  2133.415063  11670.179850             412.0  0.989512   \n",
       "3        1088.056301  2315.003636  14581.459140            1073.0  0.862260   \n",
       "4        2173.994774  4223.858877  18495.558550            2650.0  0.963514   \n",
       "\n",
       "         ... MINIMUM_PAYMENTS               PRC_FULL_PAYMENT            \\\n",
       "         ...              75%           max            count      mean   \n",
       "cluster  ...                                                             \n",
       "0        ...       523.540210  18621.013310           1536.0  0.278331   \n",
       "1        ...       248.766884   4483.503862           3279.0  0.246881   \n",
       "2        ...      7086.774783  76406.207520            412.0  0.019271   \n",
       "3        ...       884.183626  21235.065300           1073.0  0.117430   \n",
       "4        ...      1330.541571   8345.641905           2650.0  0.001798   \n",
       "\n",
       "                                                      \n",
       "              std  min  25%       50%       75%  max  \n",
       "cluster                                               \n",
       "0        0.367137  0.0  0.0  0.083333  0.545455  1.0  \n",
       "1        0.346775  0.0  0.0  0.000000  0.444444  1.0  \n",
       "2        0.090795  0.0  0.0  0.000000  0.000000  1.0  \n",
       "3        0.186772  0.0  0.0  0.083333  0.142857  1.0  \n",
       "4        0.023256  0.0  0.0  0.000000  0.000000  0.6  \n",
       "\n",
       "[5 rows x 128 columns]"
      ]
     },
     "execution_count": 14,
     "metadata": {},
     "output_type": "execute_result"
    }
   ],
   "source": [
    "dataframe['cluster'] = labels\n",
    "dataframe.groupby('cluster').describe()"
   ]
  },
  {
   "cell_type": "code",
   "execution_count": 15,
   "id": "53093f8f-ccf2-48b1-8006-6cc6b71e4e46",
   "metadata": {},
   "outputs": [
    {
     "data": {
      "text/plain": [
       "array([[1.60105064e-01, 2.45216495e-04, 4.38561405e-01, 2.57200631e-01,\n",
       "        1.81532508e-01, 2.58728121e-02, 2.04312848e-04, 8.90625500e-05,\n",
       "        1.50516286e-04, 9.39341912e-06, 1.69901859e-04, 6.17654349e-03,\n",
       "        6.03940941e-01, 4.02431241e-01, 8.53054178e-02, 7.19457109e-05],\n",
       "       [6.89799575e-02, 2.30763006e-04, 1.21587120e-01, 4.79794677e-02,\n",
       "        7.37079733e-02, 2.40200669e-02, 1.73016299e-04, 3.36944404e-05,\n",
       "        1.40456777e-04, 7.83464589e-06, 1.22859223e-04, 2.86637386e-03,\n",
       "        9.43639117e-01, 1.53810130e-01, 5.68564456e-02, 7.61967577e-05],\n",
       "       [3.33483624e-01, 2.68969713e-04, 1.59146477e-01, 3.61931219e-02,\n",
       "        1.23336164e-01, 5.80731211e-02, 1.67333390e-04, 2.64804728e-05,\n",
       "        1.47698430e-04, 1.92281888e-05, 4.25862512e-04, 3.87053484e-03,\n",
       "        3.77114118e-01, 2.52735252e-01, 6.78741705e-01, 4.21940580e-06],\n",
       "       [2.35130689e-01, 2.16418717e-04, 6.04525670e-02, 3.44569238e-02,\n",
       "        2.60008529e-02, 3.99755165e-01, 5.26563547e-05, 2.05235176e-05,\n",
       "        3.52245850e-05, 6.54254245e-05, 1.57052528e-03, 1.12425758e-03,\n",
       "        5.35275552e-01, 5.98057989e-01, 1.04294158e-01, 2.77348362e-05],\n",
       "       [5.03886149e-01, 2.72144714e-04, 6.15751915e-02, 3.61893482e-02,\n",
       "        2.54075483e-02, 2.53219709e-01, 6.71312176e-05, 2.56644637e-05,\n",
       "        4.48814714e-05, 5.75359114e-05, 1.15794119e-03, 1.32612254e-03,\n",
       "        7.19404134e-01, 1.66061928e-01, 1.79050745e-01, 5.79660872e-07]])"
      ]
     },
     "execution_count": 15,
     "metadata": {},
     "output_type": "execute_result"
    }
   ],
   "source": [
    "centroids = kmeans.cluster_centers_\n",
    "centroids"
   ]
  },
  {
   "cell_type": "code",
   "execution_count": 16,
   "id": "327d8b4d-0730-4dd8-bf48-bb5a175e1549",
   "metadata": {},
   "outputs": [
    {
     "data": {
      "text/plain": [
       "array(['BALANCE', 'PURCHASES', 'CASH_ADVANCE', 'CREDIT_LIMIT', 'PAYMENTS'],\n",
       "      dtype=object)"
      ]
     },
     "execution_count": 16,
     "metadata": {},
     "output_type": "execute_result"
    }
   ],
   "source": [
    "vars_ = centroids.var(axis=0)\n",
    "selected_columns = dataframe.columns.drop('cluster').values[(vars_ >= 0.01) & (vars_ < 0.05)]\n",
    "selected_columns"
   ]
  },
  {
   "cell_type": "code",
   "execution_count": 17,
   "id": "45eddf59-188c-476f-be30-45aa989be11b",
   "metadata": {},
   "outputs": [
    {
     "data": {
      "text/html": [
       "<div>\n",
       "<style scoped>\n",
       "    .dataframe tbody tr th:only-of-type {\n",
       "        vertical-align: middle;\n",
       "    }\n",
       "\n",
       "    .dataframe tbody tr th {\n",
       "        vertical-align: top;\n",
       "    }\n",
       "\n",
       "    .dataframe thead th {\n",
       "        text-align: right;\n",
       "    }\n",
       "</style>\n",
       "<table border=\"1\" class=\"dataframe\">\n",
       "  <thead>\n",
       "    <tr style=\"text-align: right;\">\n",
       "      <th></th>\n",
       "      <th>BALANCE</th>\n",
       "      <th>PURCHASES</th>\n",
       "      <th>CASH_ADVANCE</th>\n",
       "      <th>CREDIT_LIMIT</th>\n",
       "      <th>PAYMENTS</th>\n",
       "      <th>n_clients</th>\n",
       "    </tr>\n",
       "    <tr>\n",
       "      <th>cluster</th>\n",
       "      <th></th>\n",
       "      <th></th>\n",
       "      <th></th>\n",
       "      <th></th>\n",
       "      <th></th>\n",
       "      <th></th>\n",
       "    </tr>\n",
       "  </thead>\n",
       "  <tbody>\n",
       "    <tr>\n",
       "      <th>0</th>\n",
       "      <td>1141.865757</td>\n",
       "      <td>3274.071901</td>\n",
       "      <td>183.496011</td>\n",
       "      <td>4098.802182</td>\n",
       "      <td>3037.137165</td>\n",
       "      <td>1536</td>\n",
       "    </tr>\n",
       "    <tr>\n",
       "      <th>1</th>\n",
       "      <td>443.776995</td>\n",
       "      <td>629.282729</td>\n",
       "      <td>140.652097</td>\n",
       "      <td>5130.892579</td>\n",
       "      <td>814.340168</td>\n",
       "      <td>3279</td>\n",
       "    </tr>\n",
       "    <tr>\n",
       "      <th>2</th>\n",
       "      <td>1987.146873</td>\n",
       "      <td>858.326286</td>\n",
       "      <td>420.107194</td>\n",
       "      <td>2226.699029</td>\n",
       "      <td>1338.974045</td>\n",
       "      <td>412</td>\n",
       "    </tr>\n",
       "    <tr>\n",
       "      <th>3</th>\n",
       "      <td>1795.328292</td>\n",
       "      <td>476.810531</td>\n",
       "      <td>3267.199032</td>\n",
       "      <td>3982.452201</td>\n",
       "      <td>4713.384730</td>\n",
       "      <td>1073</td>\n",
       "    </tr>\n",
       "    <tr>\n",
       "      <th>4</th>\n",
       "      <td>3036.946177</td>\n",
       "      <td>385.299102</td>\n",
       "      <td>1637.380994</td>\n",
       "      <td>4495.584906</td>\n",
       "      <td>968.775192</td>\n",
       "      <td>2650</td>\n",
       "    </tr>\n",
       "  </tbody>\n",
       "</table>\n",
       "</div>"
      ],
      "text/plain": [
       "             BALANCE    PURCHASES  CASH_ADVANCE  CREDIT_LIMIT     PAYMENTS  \\\n",
       "cluster                                                                      \n",
       "0        1141.865757  3274.071901    183.496011   4098.802182  3037.137165   \n",
       "1         443.776995   629.282729    140.652097   5130.892579   814.340168   \n",
       "2        1987.146873   858.326286    420.107194   2226.699029  1338.974045   \n",
       "3        1795.328292   476.810531   3267.199032   3982.452201  4713.384730   \n",
       "4        3036.946177   385.299102   1637.380994   4495.584906   968.775192   \n",
       "\n",
       "         n_clients  \n",
       "cluster             \n",
       "0             1536  \n",
       "1             3279  \n",
       "2              412  \n",
       "3             1073  \n",
       "4             2650  "
      ]
     },
     "execution_count": 17,
     "metadata": {},
     "output_type": "execute_result"
    }
   ],
   "source": [
    "description = dataframe.groupby('cluster')[selected_columns]\n",
    "n_clients = description.size()\n",
    "\n",
    "description = description.mean()\n",
    "description['n_clients'] = n_clients\n",
    "\n",
    "description"
   ]
  },
  {
   "cell_type": "code",
   "execution_count": null,
   "id": "1b354953-3a79-4896-9ead-8f59a8cf1553",
   "metadata": {},
   "outputs": [],
   "source": []
  }
 ],
 "metadata": {
  "kernelspec": {
   "display_name": "Python 3 (ipykernel)",
   "language": "python",
   "name": "python3"
  },
  "language_info": {
   "codemirror_mode": {
    "name": "ipython",
    "version": 3
   },
   "file_extension": ".py",
   "mimetype": "text/x-python",
   "name": "python",
   "nbconvert_exporter": "python",
   "pygments_lexer": "ipython3",
   "version": "3.10.5"
  }
 },
 "nbformat": 4,
 "nbformat_minor": 5
}
